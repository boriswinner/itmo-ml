{
  "nbformat": 4,
  "nbformat_minor": 0,
  "metadata": {
    "colab": {
      "name": "Timofeenko_Lab4.ipynb",
      "provenance": [],
      "collapsed_sections": []
    },
    "kernelspec": {
      "display_name": "Python 3",
      "language": "python",
      "name": "python3"
    },
    "language_info": {
      "codemirror_mode": {
        "name": "ipython",
        "version": 3
      },
      "file_extension": ".py",
      "mimetype": "text/x-python",
      "name": "python",
      "nbconvert_exporter": "python",
      "pygments_lexer": "ipython3",
      "version": "3.7.0"
    },
    "accelerator": "GPU"
  },
  "cells": [
    {
      "cell_type": "markdown",
      "metadata": {
        "id": "OAqC8xXmZ1Av"
      },
      "source": [
        "## Convolutional Neural Network \n",
        "\n"
      ]
    },
    {
      "cell_type": "markdown",
      "metadata": {
        "id": "3z8CfGD5Z1Ay"
      },
      "source": [
        "In this notebook you will learn to distinguish dogs from cats!\n",
        "\n",
        "Data:\n",
        "https://drive.google.com/drive/folders/1nzVk4GOvKR6P87uPszUkKMPtaXV_wrZf?usp=sharing\n",
        "\n",
        "Fill all the necessary gaps in cells below and fit neural networks for solving the binary classification task.\n",
        "\n",
        "## Task 1:\n",
        "\n",
        "1. Build and fit CNN with 3 convolutional layers for binary classification\n",
        "2. Evaluate accuracy on test data\n",
        "3. Plot the graphs for Loss(number_of_epochs) and Accuracy(number_of_epochs)\n",
        "\n",
        "First, let's load all the necessary functions:\n"
      ]
    },
    {
      "cell_type": "code",
      "metadata": {
        "id": "CFt-M3Fw9Lo9",
        "colab": {
          "base_uri": "https://localhost:8080/",
          "height": 36
        },
        "outputId": "a8bc0044-f2dd-4cfb-b51e-f4d871c2aef3"
      },
      "source": [
        "import tensorflow as tf\n",
        "tf.test.gpu_device_name()"
      ],
      "execution_count": null,
      "outputs": [
        {
          "output_type": "execute_result",
          "data": {
            "application/vnd.google.colaboratory.intrinsic+json": {
              "type": "string"
            },
            "text/plain": [
              "'/device:GPU:0'"
            ]
          },
          "metadata": {
            "tags": []
          },
          "execution_count": 1
        }
      ]
    },
    {
      "cell_type": "code",
      "metadata": {
        "id": "HyzNnZpdZ1A4"
      },
      "source": [
        "from keras.models import Sequential\n",
        "from keras.layers import Activation, Dropout, Flatten, Dense, Conv2D, MaxPooling2D\n",
        "from keras.applications import VGG16\n",
        "from keras.optimizers import Adam\n",
        "from keras.preprocessing.image import ImageDataGenerator"
      ],
      "execution_count": null,
      "outputs": []
    },
    {
      "cell_type": "markdown",
      "metadata": {
        "id": "DS-6t0_XZ1BL"
      },
      "source": [
        "The images collected for training and testing the deep learning model must be prepared: split the entire set into a training, validation and test sample, observing the balancing of classes (with binary classification they should be approximately equal in all three samples).\n",
        "\n",
        "This has _already_ been done: in the Cats_and_Dogs directory there are three subdirectories: train, test and val - training, test and validation samples, respectively."
      ]
    },
    {
      "cell_type": "code",
      "metadata": {
        "colab": {
          "base_uri": "https://localhost:8080/"
        },
        "id": "iK6VqL9Abk9v",
        "outputId": "c37d53f7-223a-4258-9451-7c474a9d1bb7"
      },
      "source": [
        "# if you are using google colab for this task you can mount your GoogleDrive as follows: \n",
        "from google.colab import drive\n",
        "drive.mount('/content/drive/')\n",
        "\n",
        "# After running this cell you should enter the authorization code from your Google account"
      ],
      "execution_count": null,
      "outputs": [
        {
          "output_type": "stream",
          "text": [
            "Mounted at /content/drive/\n"
          ],
          "name": "stdout"
        }
      ]
    },
    {
      "cell_type": "code",
      "metadata": {
        "id": "Ejt0NSnVZ1BP"
      },
      "source": [
        "# Initialize the folders with train, test and validation datasets (in \"/My Drive/...\" or from your local repository where you have downloaded data):\n",
        "zip_path = '/content/drive/MyDrive/Cats_and_Dogs.zip'\n",
        "!cp \"{zip_path}\" .\n",
        "\n",
        "!unzip -q Cats_and_Dogs.zip\n",
        "\n",
        "!rm Cats_and_Dogs.zip\n",
        "\n",
        "train = 'train'\n",
        "val =   'val'\n",
        "test =  'test'\n",
        "\n",
        "# The shape of the RGB image\n",
        "img_width, img_height, channels = 150, 150, 3 # you can try different sizes\n",
        "\n",
        "# input shape\n",
        "input_shape = (img_width, img_height, 3)\n",
        "# position matters!\n",
        "# Number_of_channels can be at the first or the last position\n",
        "# in our case - \"channels last\"\n",
        "\n",
        "# minibatch size\n",
        "batch_size = 64\n",
        "# train set size\n",
        "nb_train_samples = 20000\n",
        "# validation set size \n",
        "nb_validation_samples = 2490\n",
        "# test set size\n",
        "nb_test_samples = 2500"
      ],
      "execution_count": null,
      "outputs": []
    },
    {
      "cell_type": "markdown",
      "metadata": {
        "id": "rYe-jLGbZ1Bh"
      },
      "source": [
        "## Prepare the data.\n",
        "\n",
        "You don’t have to manually change the shapes of 25000 images and convert them into the necessary format for keras (img_width, img_height, 3).\n",
        "\n",
        "We will use the built-in image preprocessing function _ImageGenerator()_.\n",
        "\n",
        "It performs scaling, resizes selected images and prepares batches (mini-samples) to train the model."
      ]
    },
    {
      "cell_type": "code",
      "metadata": {
        "colab": {
          "base_uri": "https://localhost:8080/"
        },
        "id": "Ncx9lh6LZ1Bk",
        "outputId": "b610b973-a4a4-4d97-b8a6-83002bef744b"
      },
      "source": [
        "datagen = ImageDataGenerator(rescale=1. / 255)\n",
        "\n",
        "train_generator = datagen.flow_from_directory(\n",
        "    train,\n",
        "    target_size=(img_width, img_height),\n",
        "    batch_size=batch_size,\n",
        "    class_mode='binary')\n",
        "\n",
        "val_generator = datagen.flow_from_directory(\n",
        "    val,\n",
        "    target_size=(img_width, img_height),\n",
        "    batch_size=batch_size,\n",
        "    class_mode='binary')\n",
        "\n",
        "test_generator = datagen.flow_from_directory(\n",
        "    test,\n",
        "    target_size=(img_width, img_height),\n",
        "    batch_size=batch_size,\n",
        "    class_mode='binary')"
      ],
      "execution_count": null,
      "outputs": [
        {
          "output_type": "stream",
          "text": [
            "Found 20000 images belonging to 2 classes.\n",
            "Found 2490 images belonging to 2 classes.\n",
            "Found 2500 images belonging to 2 classes.\n"
          ],
          "name": "stdout"
        }
      ]
    },
    {
      "cell_type": "markdown",
      "metadata": {
        "id": "GthRQyZHZ1CI"
      },
      "source": [
        "Set the network architecture by sequentially adding layers to it:\n",
        "1. A convolutional layer with 16 neurons, filter size 3x3. Activation function - 'relu'\n",
        "2. MaxPooling layer with filter size 2x2.\n",
        "3. A convolutional layer with 32 neurons, filter size 3x3. Activation function - 'relu'\n",
        "4. MaxPooling layer with filter size 2x2.\n",
        "5. A convolutional layer with 64 neurons, filter size 3x3. Activation function - 'relu'\n",
        "6. MaxPooling layer with filter size 2x2.\n",
        "7. Operation model.add (Flatten ()), which makes a one-dimensional vector of the resulting feature maps.\n",
        "8. A fully connected layer with 64 neurons. Activation function - 'relu'\n",
        "9. Use model.add (Dropout (0.5)) which excludes the edge from the current layer in the computational graph with a 50% probability to avoid overfitting.\n",
        "10. A fully connected layer with 1 neuron. Activation function - 'sigmoid', because binary classification model.\n",
        "\n",
        "Add to the model all the missing layers, by analogy with the already specified.\n",
        "Keras documentation: https://keras.io/layers/about-keras-layers/"
      ]
    },
    {
      "cell_type": "code",
      "metadata": {
        "id": "yNik7qzRZ1CU"
      },
      "source": [
        "model = Sequential()\n",
        "\n",
        "# 1: +Convolutional\n",
        "# For example:\n",
        "model.add(Conv2D(16, (3, 3), input_shape=(150, 150, 3)))\n",
        "model.add(Activation('relu'))\n",
        "model.add(MaxPooling2D(pool_size=(2, 2)))\n",
        "\n",
        "# 2: +Pooling\n",
        "# 3:\n",
        "model.add(Conv2D(32, (3, 3)))\n",
        "model.add(Activation('relu'))\n",
        "model.add(MaxPooling2D(pool_size=(2, 2)))\n",
        "\n",
        "model.add(Conv2D(64, (3, 3)))\n",
        "model.add(Activation('relu'))\n",
        "model.add(MaxPooling2D(pool_size=(2, 2)))\n",
        "\n",
        "model.add (Flatten ())\n",
        "model.add(Dense(64, activation='relu'))\n",
        "model.add(Dropout (0.5)) \n",
        "model.add(Dense(1, activation='sigmoid'))\n",
        "#     +Relu\n",
        "\n",
        "# 4:  +Pooling \n",
        "# 5:  +Convolutional\n",
        "#     +Relu\n",
        "# 6:  +Pooling \n",
        "# 7:  +Flattening\n",
        "# 8:  +Dense\n",
        "#     +ReLu\n",
        "# 9:  +Dropout\n",
        "# 10: +Dense\n",
        "#     +Sigmoid\n"
      ],
      "execution_count": null,
      "outputs": []
    },
    {
      "cell_type": "code",
      "metadata": {
        "id": "0nNS5cLjZ1Cg",
        "colab": {
          "base_uri": "https://localhost:8080/"
        },
        "outputId": "3483604b-f6cf-449c-edbb-00def63dd0a1"
      },
      "source": [
        "model.compile(loss='binary_crossentropy',\n",
        "              optimizer='adam',\n",
        "              metrics=['accuracy'])\n",
        "\n",
        "model.summary()"
      ],
      "execution_count": null,
      "outputs": [
        {
          "output_type": "stream",
          "text": [
            "Model: \"sequential\"\n",
            "_________________________________________________________________\n",
            "Layer (type)                 Output Shape              Param #   \n",
            "=================================================================\n",
            "conv2d (Conv2D)              (None, 148, 148, 16)      448       \n",
            "_________________________________________________________________\n",
            "activation (Activation)      (None, 148, 148, 16)      0         \n",
            "_________________________________________________________________\n",
            "max_pooling2d (MaxPooling2D) (None, 74, 74, 16)        0         \n",
            "_________________________________________________________________\n",
            "conv2d_1 (Conv2D)            (None, 72, 72, 32)        4640      \n",
            "_________________________________________________________________\n",
            "activation_1 (Activation)    (None, 72, 72, 32)        0         \n",
            "_________________________________________________________________\n",
            "max_pooling2d_1 (MaxPooling2 (None, 36, 36, 32)        0         \n",
            "_________________________________________________________________\n",
            "conv2d_2 (Conv2D)            (None, 34, 34, 64)        18496     \n",
            "_________________________________________________________________\n",
            "activation_2 (Activation)    (None, 34, 34, 64)        0         \n",
            "_________________________________________________________________\n",
            "max_pooling2d_2 (MaxPooling2 (None, 17, 17, 64)        0         \n",
            "_________________________________________________________________\n",
            "flatten (Flatten)            (None, 18496)             0         \n",
            "_________________________________________________________________\n",
            "dense (Dense)                (None, 64)                1183808   \n",
            "_________________________________________________________________\n",
            "dropout (Dropout)            (None, 64)                0         \n",
            "_________________________________________________________________\n",
            "dense_1 (Dense)              (None, 1)                 65        \n",
            "=================================================================\n",
            "Total params: 1,207,457\n",
            "Trainable params: 1,207,457\n",
            "Non-trainable params: 0\n",
            "_________________________________________________________________\n"
          ],
          "name": "stdout"
        }
      ]
    },
    {
      "cell_type": "code",
      "metadata": {
        "id": "BzqPxMJdZ1Cu",
        "colab": {
          "base_uri": "https://localhost:8080/"
        },
        "outputId": "52727786-0a27-44d8-b19f-4c71d871ecf7"
      },
      "source": [
        "# use the generator to train the model (analogue of the fit method)\n",
        "# 1 epoch of training on a CPU will take 4-6 minutes. The GPU is an ~order of magnitude faster.\n",
        "# THE FIRST EPOCH USUALLY TAKES MUCH LARGER TIME AS KERAS SHOULD BUILD THE COMPUTATIONAL GRAPH\n",
        "\n",
        "history = model.fit_generator(\n",
        "    train_generator,\n",
        "    steps_per_epoch=nb_train_samples // batch_size,\n",
        "    epochs=4, # try different number of epochs: 10, 15, 20; check the loss and accuracy;\n",
        "    validation_data=val_generator,\n",
        "    validation_steps=nb_validation_samples // batch_size)"
      ],
      "execution_count": null,
      "outputs": [
        {
          "output_type": "stream",
          "text": [
            "/usr/local/lib/python3.6/dist-packages/tensorflow/python/keras/engine/training.py:1844: UserWarning: `Model.fit_generator` is deprecated and will be removed in a future version. Please use `Model.fit`, which supports generators.\n",
            "  warnings.warn('`Model.fit_generator` is deprecated and '\n"
          ],
          "name": "stderr"
        },
        {
          "output_type": "stream",
          "text": [
            "Epoch 1/4\n",
            "312/312 [==============================] - 60s 192ms/step - loss: 0.2907 - accuracy: 0.8760 - val_loss: 0.3791 - val_accuracy: 0.8347\n",
            "Epoch 2/4\n",
            "312/312 [==============================] - 60s 191ms/step - loss: 0.2596 - accuracy: 0.8912 - val_loss: 0.3871 - val_accuracy: 0.8388\n",
            "Epoch 3/4\n",
            "312/312 [==============================] - 60s 191ms/step - loss: 0.2211 - accuracy: 0.9080 - val_loss: 0.4373 - val_accuracy: 0.8248\n",
            "Epoch 4/4\n",
            "312/312 [==============================] - 59s 190ms/step - loss: 0.1907 - accuracy: 0.9216 - val_loss: 0.4046 - val_accuracy: 0.8442\n"
          ],
          "name": "stdout"
        }
      ]
    },
    {
      "cell_type": "code",
      "metadata": {
        "id": "KBMrJqBHZ1DT"
      },
      "source": [
        "# NOTE: if the accuracy on test data after 15 epochs is less than 80% smth goes wrong\n",
        "scores = model.evaluate_generator(test_generator, nb_test_samples // batch_size)\n",
        "print(scores)\n",
        "print(\"Accuracy on test data: %.2f%%\" % (scores[1]*100))"
      ],
      "execution_count": null,
      "outputs": []
    },
    {
      "cell_type": "markdown",
      "metadata": {
        "id": "Mle_LO6XMJ62"
      },
      "source": [
        "Plot the graphs: \n",
        "\n",
        "- Loss(Number of epochs)\n",
        "\n",
        "- Accuracy(Number of epochs)"
      ]
    },
    {
      "cell_type": "code",
      "metadata": {
        "id": "icBG1BT0WVSE",
        "colab": {
          "base_uri": "https://localhost:8080/",
          "height": 573
        },
        "outputId": "e916985b-5e7c-44e7-b1bf-8e74abcee99b"
      },
      "source": [
        "import matplotlib.image as mpimg\r\n",
        "import matplotlib.pyplot as plt\r\n",
        "\r\n",
        "plt.plot(history.history['accuracy'])\r\n",
        "plt.plot(history.history['val_accuracy'])\r\n",
        "plt.title('model accuracy')\r\n",
        "plt.ylabel('accuracy')\r\n",
        "plt.xlabel('epoch')\r\n",
        "plt.legend(['train', 'val'], loc='upper left')\r\n",
        "plt.show()\r\n",
        "\r\n",
        "plt.plot(history.history['loss'])\r\n",
        "plt.plot(history.history['val_loss'])\r\n",
        "plt.title('model loss')\r\n",
        "plt.ylabel('loss')\r\n",
        "plt.xlabel('epoch')\r\n",
        "plt.legend(['train', 'val'], loc='upper left')\r\n",
        "plt.show()\r\n",
        "\r\n"
      ],
      "execution_count": null,
      "outputs": [
        {
          "output_type": "display_data",
          "data": {
            "image/png": "[encoded data removed]",
            "text/plain": [
              "<Figure size 432x288 with 1 Axes>"
            ]
          },
          "metadata": {
            "tags": [],
            "needs_background": "light"
          }
        },
        {
          "output_type": "display_data",
          "data": {
            "image/png": "[encoded data removed]",
            "text/plain": [
              "<Figure size 432x288 with 1 Axes>"
            ]
          },
          "metadata": {
            "tags": [],
            "needs_background": "light"
          }
        }
      ]
    },
    {
      "cell_type": "markdown",
      "metadata": {
        "id": "QESIOnCPZ1Dz"
      },
      "source": [
        "Let's try to improve the quality of recognition, using the method of transfer lerning. \n",
        "\n",
        "We will use weights of deep neural networks already trained on large dataset such as  ImageNet, and provide fine tuning of several additional dense layers on new data relevant to the current classification task. The more new images will differ from those on which the network has been trained, the more layers will need to be “retrained” in order to get good classification accuracy. The intuition here is that the model has already learned how to highlight the necessary features on the images in the large dataset, it only needs to be “tweaked” for a specific task.\n",
        "\n",
        "## Task 2\n",
        "\n",
        "1. Build and fit Transfer Learning model using pre-trained VGG16-model weights from keras application.\n",
        "2. Do the same with **another avaliable pre-trained deep learning model** from keras application https://keras.io/api/applications/.\n",
        "2. Evaluate accuracy on test data for p.1 and p.2\n",
        "3. Plot the graphs for Loss(number_of_epochs) and Accuracy(number_of_epochs)\n",
        "4. Check the performance of your model with the custom image of cat or dog (so the model will tell which class this image belongs to). Develop the function for the inference of the best algorithm."
      ]
    },
    {
      "cell_type": "code",
      "metadata": {
        "id": "Md_9fT-nZ1D2",
        "colab": {
          "base_uri": "https://localhost:8080/"
        },
        "outputId": "1e12e8d6-98a2-4fc7-b312-015ce80c8a36"
      },
      "source": [
        "# First, download the weights of the VGG16 network trained on the ImageNet dataset:\n",
        "\n",
        "vgg16_net = VGG16(weights='imagenet', \n",
        "                  include_top=False,      # we take only the \"convolution\" part, the last layers we add ourselves\n",
        "                  input_shape=(150, 150, 3))\n",
        "vgg16_net.trainable = False               # clearly prescribe that we do NOT overload the network.\n",
        "                                          # Weights VGG16 in the process of learning will remain unchanged!\n",
        "\n",
        "vgg16_net.summary()                       # pay attention to the number of trained and untrained parameters"
      ],
      "execution_count": null,
      "outputs": [
        {
          "output_type": "stream",
          "text": [
            "Downloading data from https://storage.googleapis.com/tensorflow/keras-applications/vgg16/vgg16_weights_tf_dim_ordering_tf_kernels_notop.h5\n",
            "58892288/58889256 [==============================] - 0s 0us/step\n",
            "Model: \"vgg16\"\n",
            "_________________________________________________________________\n",
            "Layer (type)                 Output Shape              Param #   \n",
            "=================================================================\n",
            "input_1 (InputLayer)         [(None, 150, 150, 3)]     0         \n",
            "_________________________________________________________________\n",
            "block1_conv1 (Conv2D)        (None, 150, 150, 64)      1792      \n",
            "_________________________________________________________________\n",
            "block1_conv2 (Conv2D)        (None, 150, 150, 64)      36928     \n",
            "_________________________________________________________________\n",
            "block1_pool (MaxPooling2D)   (None, 75, 75, 64)        0         \n",
            "_________________________________________________________________\n",
            "block2_conv1 (Conv2D)        (None, 75, 75, 128)       73856     \n",
            "_________________________________________________________________\n",
            "block2_conv2 (Conv2D)        (None, 75, 75, 128)       147584    \n",
            "_________________________________________________________________\n",
            "block2_pool (MaxPooling2D)   (None, 37, 37, 128)       0         \n",
            "_________________________________________________________________\n",
            "block3_conv1 (Conv2D)        (None, 37, 37, 256)       295168    \n",
            "_________________________________________________________________\n",
            "block3_conv2 (Conv2D)        (None, 37, 37, 256)       590080    \n",
            "_________________________________________________________________\n",
            "block3_conv3 (Conv2D)        (None, 37, 37, 256)       590080    \n",
            "_________________________________________________________________\n",
            "block3_pool (MaxPooling2D)   (None, 18, 18, 256)       0         \n",
            "_________________________________________________________________\n",
            "block4_conv1 (Conv2D)        (None, 18, 18, 512)       1180160   \n",
            "_________________________________________________________________\n",
            "block4_conv2 (Conv2D)        (None, 18, 18, 512)       2359808   \n",
            "_________________________________________________________________\n",
            "block4_conv3 (Conv2D)        (None, 18, 18, 512)       2359808   \n",
            "_________________________________________________________________\n",
            "block4_pool (MaxPooling2D)   (None, 9, 9, 512)         0         \n",
            "_________________________________________________________________\n",
            "block5_conv1 (Conv2D)        (None, 9, 9, 512)         2359808   \n",
            "_________________________________________________________________\n",
            "block5_conv2 (Conv2D)        (None, 9, 9, 512)         2359808   \n",
            "_________________________________________________________________\n",
            "block5_conv3 (Conv2D)        (None, 9, 9, 512)         2359808   \n",
            "_________________________________________________________________\n",
            "block5_pool (MaxPooling2D)   (None, 4, 4, 512)         0         \n",
            "=================================================================\n",
            "Total params: 14,714,688\n",
            "Trainable params: 0\n",
            "Non-trainable params: 14,714,688\n",
            "_________________________________________________________________\n"
          ],
          "name": "stdout"
        }
      ]
    },
    {
      "cell_type": "markdown",
      "metadata": {
        "id": "a_DTDXqWZ1EG"
      },
      "source": [
        "We construct our model of \"transfer learning\" by adding two fully connected layers to VGG16"
      ]
    },
    {
      "cell_type": "code",
      "metadata": {
        "id": "hKYlhGqTZ1EJ",
        "colab": {
          "base_uri": "https://localhost:8080/"
        },
        "outputId": "278e8b0c-779b-41cb-be25-9191de64e178"
      },
      "source": [
        "# add layers to VGG16:\n",
        "\n",
        "model = Sequential()\n",
        "model.add(vgg16_net)\n",
        "\n",
        "# + flattening\n",
        "model.add (Flatten ())\n",
        "# + Dense fullyconnected layer with 256 neurons\n",
        "# + ReLu\n",
        "model.add(Dense(256, activation='relu'))\n",
        "# + Dropout\n",
        "model.add(Dropout (0.5)) \n",
        "# + Dense layer with 1 neuron\n",
        "# + sigmoid\n",
        "model.add(Dense(1, activation='sigmoid'))\n",
        "\n",
        "model.summary()"
      ],
      "execution_count": null,
      "outputs": [
        {
          "output_type": "stream",
          "text": [
            "Model: \"sequential_1\"\n",
            "_________________________________________________________________\n",
            "Layer (type)                 Output Shape              Param #   \n",
            "=================================================================\n",
            "vgg16 (Functional)           (None, 4, 4, 512)         14714688  \n",
            "_________________________________________________________________\n",
            "flatten_1 (Flatten)          (None, 8192)              0         \n",
            "_________________________________________________________________\n",
            "dense_2 (Dense)              (None, 256)               2097408   \n",
            "_________________________________________________________________\n",
            "dropout_1 (Dropout)          (None, 256)               0         \n",
            "_________________________________________________________________\n",
            "dense_3 (Dense)              (None, 1)                 257       \n",
            "=================================================================\n",
            "Total params: 16,812,353\n",
            "Trainable params: 2,097,665\n",
            "Non-trainable params: 14,714,688\n",
            "_________________________________________________________________\n"
          ],
          "name": "stdout"
        }
      ]
    },
    {
      "cell_type": "code",
      "metadata": {
        "id": "hKU1pQEeZ1Ea"
      },
      "source": [
        "model.compile(loss='binary_crossentropy',\n",
        "              optimizer=Adam(lr=1e-5), \n",
        "              metrics=['accuracy'])"
      ],
      "execution_count": null,
      "outputs": []
    },
    {
      "cell_type": "code",
      "metadata": {
        "id": "gNX7L-MIZ1FX",
        "colab": {
          "base_uri": "https://localhost:8080/"
        },
        "outputId": "46da043e-be17-49b1-9fc3-8f65ce0c0fbc"
      },
      "source": [
        "# We also use the generator to train the model (similar to the fit method)\n",
        "# Without using a GPU, learning 1 epoch of such a network will take about an hour. Plan your time =)\n",
        "# If you have access to a GPU, you can try 10-12 epochs - the quality should increase even more.\n",
        "\n",
        "history = model.fit_generator(\n",
        "    train_generator,\n",
        "    steps_per_epoch=nb_train_samples // batch_size,\n",
        "    epochs=5,\n",
        "    validation_data=val_generator,\n",
        "    validation_steps=nb_validation_samples // batch_size)"
      ],
      "execution_count": null,
      "outputs": [
        {
          "output_type": "stream",
          "text": [
            "/usr/local/lib/python3.6/dist-packages/tensorflow/python/keras/engine/training.py:1844: UserWarning: `Model.fit_generator` is deprecated and will be removed in a future version. Please use `Model.fit`, which supports generators.\n",
            "  warnings.warn('`Model.fit_generator` is deprecated and '\n"
          ],
          "name": "stderr"
        },
        {
          "output_type": "stream",
          "text": [
            "Epoch 1/5\n",
            "312/312 [==============================] - 71s 227ms/step - loss: 0.4747 - accuracy: 0.7717 - val_loss: 0.3486 - val_accuracy: 0.8602\n",
            "Epoch 2/5\n",
            "312/312 [==============================] - 70s 223ms/step - loss: 0.3388 - accuracy: 0.8553 - val_loss: 0.2962 - val_accuracy: 0.8762\n",
            "Epoch 3/5\n",
            "312/312 [==============================] - 70s 223ms/step - loss: 0.2957 - accuracy: 0.8739 - val_loss: 0.2705 - val_accuracy: 0.8923\n",
            "Epoch 4/5\n",
            "312/312 [==============================] - 69s 222ms/step - loss: 0.2714 - accuracy: 0.8860 - val_loss: 0.2552 - val_accuracy: 0.8972\n",
            "Epoch 5/5\n",
            "312/312 [==============================] - 69s 222ms/step - loss: 0.2558 - accuracy: 0.8919 - val_loss: 0.2468 - val_accuracy: 0.9001\n"
          ],
          "name": "stdout"
        }
      ]
    },
    {
      "cell_type": "code",
      "metadata": {
        "id": "vMCxq21YZ1Fh",
        "colab": {
          "base_uri": "https://localhost:8080/"
        },
        "outputId": "d7cef9d0-8b42-41d7-ff3c-c4904df99867"
      },
      "source": [
        "scores = model.evaluate_generator(test_generator, nb_test_samples // batch_size)\n",
        "print(\"Accuracy on test data: %.2f%%\" % (scores[1]*100))"
      ],
      "execution_count": null,
      "outputs": [
        {
          "output_type": "stream",
          "text": [
            "/usr/local/lib/python3.6/dist-packages/tensorflow/python/keras/engine/training.py:1877: UserWarning: `Model.evaluate_generator` is deprecated and will be removed in a future version. Please use `Model.evaluate`, which supports generators.\n",
            "  warnings.warn('`Model.evaluate_generator` is deprecated and '\n"
          ],
          "name": "stderr"
        },
        {
          "output_type": "stream",
          "text": [
            "[0.4006928503513336, 0.8092948794364929]\n",
            "Accuracy on test data: 80.93%\n"
          ],
          "name": "stdout"
        }
      ]
    },
    {
      "cell_type": "code",
      "metadata": {
        "colab": {
          "base_uri": "https://localhost:8080/",
          "height": 573
        },
        "id": "-xapYPgl4v70",
        "outputId": "42ede2ac-2e52-4f07-afe5-b438523bb3dc"
      },
      "source": [
        "plt.plot(history.history['accuracy'])\r\n",
        "plt.plot(history.history['val_accuracy'])\r\n",
        "plt.title('model accuracy')\r\n",
        "plt.ylabel('accuracy')\r\n",
        "plt.xlabel('epoch')\r\n",
        "plt.legend(['train', 'val'], loc='upper left')\r\n",
        "plt.show()\r\n",
        "\r\n",
        "plt.plot(history.history['loss'])\r\n",
        "plt.plot(history.history['val_loss'])\r\n",
        "plt.title('model loss')\r\n",
        "plt.ylabel('loss')\r\n",
        "plt.xlabel('epoch')\r\n",
        "plt.legend(['train', 'val'], loc='upper left')\r\n",
        "plt.show()"
      ],
      "execution_count": null,
      "outputs": [
        {
          "output_type": "display_data",
          "data": {
            "image/png": "[encoded data removed]",
            "text/plain": [
              "<Figure size 432x288 with 1 Axes>"
            ]
          },
          "metadata": {
            "tags": [],
            "needs_background": "light"
          }
        },
        {
          "output_type": "display_data",
          "data": {
            "image/png": "[encoded data removed]",
            "text/plain": [
              "<Figure size 432x288 with 1 Axes>"
            ]
          },
          "metadata": {
            "tags": [],
            "needs_background": "light"
          }
        }
      ]
    },
    {
      "cell_type": "code",
      "metadata": {
        "colab": {
          "base_uri": "https://localhost:8080/"
        },
        "id": "bi0Ms5Fx8uVs",
        "outputId": "0ce09d89-5750-4be9-f14a-20a6cb4cc973"
      },
      "source": [
        "# Download the weights of the VGG19 network trained on the ImageNet dataset:\r\n",
        "from keras.applications import VGG19\r\n",
        "\r\n",
        "vgg19_net = VGG19(weights='imagenet', \r\n",
        "                  include_top=False,      # we take only the \"convolution\" part, the last layers we add ourselves\r\n",
        "                  input_shape=(150, 150, 3))\r\n",
        "vgg19_net.trainable = False               # clearly prescribe that we do NOT overload the network.\r\n",
        "                                          # Weights VGG16 in the process of learning will remain unchanged!\r\n",
        "\r\n",
        "vgg19_net.summary()                       # pay attention to the number of trained and untrained parameters"
      ],
      "execution_count": null,
      "outputs": [
        {
          "output_type": "stream",
          "text": [
            "Downloading data from https://storage.googleapis.com/tensorflow/keras-applications/vgg19/vgg19_weights_tf_dim_ordering_tf_kernels_notop.h5\n",
            "80142336/80134624 [==============================] - 1s 0us/step\n",
            "Model: \"vgg19\"\n",
            "_________________________________________________________________\n",
            "Layer (type)                 Output Shape              Param #   \n",
            "=================================================================\n",
            "input_2 (InputLayer)         [(None, 150, 150, 3)]     0         \n",
            "_________________________________________________________________\n",
            "block1_conv1 (Conv2D)        (None, 150, 150, 64)      1792      \n",
            "_________________________________________________________________\n",
            "block1_conv2 (Conv2D)        (None, 150, 150, 64)      36928     \n",
            "_________________________________________________________________\n",
            "block1_pool (MaxPooling2D)   (None, 75, 75, 64)        0         \n",
            "_________________________________________________________________\n",
            "block2_conv1 (Conv2D)        (None, 75, 75, 128)       73856     \n",
            "_________________________________________________________________\n",
            "block2_conv2 (Conv2D)        (None, 75, 75, 128)       147584    \n",
            "_________________________________________________________________\n",
            "block2_pool (MaxPooling2D)   (None, 37, 37, 128)       0         \n",
            "_________________________________________________________________\n",
            "block3_conv1 (Conv2D)        (None, 37, 37, 256)       295168    \n",
            "_________________________________________________________________\n",
            "block3_conv2 (Conv2D)        (None, 37, 37, 256)       590080    \n",
            "_________________________________________________________________\n",
            "block3_conv3 (Conv2D)        (None, 37, 37, 256)       590080    \n",
            "_________________________________________________________________\n",
            "block3_conv4 (Conv2D)        (None, 37, 37, 256)       590080    \n",
            "_________________________________________________________________\n",
            "block3_pool (MaxPooling2D)   (None, 18, 18, 256)       0         \n",
            "_________________________________________________________________\n",
            "block4_conv1 (Conv2D)        (None, 18, 18, 512)       1180160   \n",
            "_________________________________________________________________\n",
            "block4_conv2 (Conv2D)        (None, 18, 18, 512)       2359808   \n",
            "_________________________________________________________________\n",
            "block4_conv3 (Conv2D)        (None, 18, 18, 512)       2359808   \n",
            "_________________________________________________________________\n",
            "block4_conv4 (Conv2D)        (None, 18, 18, 512)       2359808   \n",
            "_________________________________________________________________\n",
            "block4_pool (MaxPooling2D)   (None, 9, 9, 512)         0         \n",
            "_________________________________________________________________\n",
            "block5_conv1 (Conv2D)        (None, 9, 9, 512)         2359808   \n",
            "_________________________________________________________________\n",
            "block5_conv2 (Conv2D)        (None, 9, 9, 512)         2359808   \n",
            "_________________________________________________________________\n",
            "block5_conv3 (Conv2D)        (None, 9, 9, 512)         2359808   \n",
            "_________________________________________________________________\n",
            "block5_conv4 (Conv2D)        (None, 9, 9, 512)         2359808   \n",
            "_________________________________________________________________\n",
            "block5_pool (MaxPooling2D)   (None, 4, 4, 512)         0         \n",
            "=================================================================\n",
            "Total params: 20,024,384\n",
            "Trainable params: 0\n",
            "Non-trainable params: 20,024,384\n",
            "_________________________________________________________________\n"
          ],
          "name": "stdout"
        }
      ]
    },
    {
      "cell_type": "code",
      "metadata": {
        "colab": {
          "base_uri": "https://localhost:8080/"
        },
        "id": "Ohygyf6Q85kl",
        "outputId": "0612987d-60ed-4daa-8736-e941fb24db50"
      },
      "source": [
        "# add layers to VGG19:\r\n",
        "\r\n",
        "model = Sequential()\r\n",
        "model.add(vgg19_net)\r\n",
        "\r\n",
        "# + flattening\r\n",
        "model.add (Flatten ())\r\n",
        "# + Dense fullyconnected layer with 256 neurons\r\n",
        "# + ReLu\r\n",
        "model.add(Dense(256, activation='relu'))\r\n",
        "# + Dropout\r\n",
        "model.add(Dropout (0.5)) \r\n",
        "# + Dense layer with 1 neuron\r\n",
        "# + sigmoid\r\n",
        "model.add(Dense(1, activation='sigmoid'))\r\n",
        "\r\n",
        "model.summary()"
      ],
      "execution_count": null,
      "outputs": [
        {
          "output_type": "stream",
          "text": [
            "Model: \"sequential_2\"\n",
            "_________________________________________________________________\n",
            "Layer (type)                 Output Shape              Param #   \n",
            "=================================================================\n",
            "vgg19 (Functional)           (None, 4, 4, 512)         20024384  \n",
            "_________________________________________________________________\n",
            "flatten_2 (Flatten)          (None, 8192)              0         \n",
            "_________________________________________________________________\n",
            "dense_4 (Dense)              (None, 256)               2097408   \n",
            "_________________________________________________________________\n",
            "dropout_2 (Dropout)          (None, 256)               0         \n",
            "_________________________________________________________________\n",
            "dense_5 (Dense)              (None, 1)                 257       \n",
            "=================================================================\n",
            "Total params: 22,122,049\n",
            "Trainable params: 2,097,665\n",
            "Non-trainable params: 20,024,384\n",
            "_________________________________________________________________\n"
          ],
          "name": "stdout"
        }
      ]
    },
    {
      "cell_type": "code",
      "metadata": {
        "id": "s3RpWBO98_c5"
      },
      "source": [
        "model.compile(loss='binary_crossentropy',\r\n",
        "              optimizer=Adam(lr=1e-5), \r\n",
        "              metrics=['accuracy'])"
      ],
      "execution_count": null,
      "outputs": []
    },
    {
      "cell_type": "code",
      "metadata": {
        "colab": {
          "base_uri": "https://localhost:8080/"
        },
        "id": "v1aN9tT99B67",
        "outputId": "226ba8d8-22f7-428b-b167-6e7f5fec9526"
      },
      "source": [
        "history = model.fit_generator(\r\n",
        "    train_generator,\r\n",
        "    steps_per_epoch=nb_train_samples // batch_size,\r\n",
        "    epochs=5,\r\n",
        "    validation_data=val_generator,\r\n",
        "    validation_steps=nb_validation_samples // batch_size)"
      ],
      "execution_count": null,
      "outputs": [
        {
          "output_type": "stream",
          "text": [
            "/usr/local/lib/python3.6/dist-packages/tensorflow/python/keras/engine/training.py:1844: UserWarning: `Model.fit_generator` is deprecated and will be removed in a future version. Please use `Model.fit`, which supports generators.\n",
            "  warnings.warn('`Model.fit_generator` is deprecated and '\n"
          ],
          "name": "stderr"
        },
        {
          "output_type": "stream",
          "text": [
            "Epoch 1/5\n",
            "312/312 [==============================] - 74s 234ms/step - loss: 0.6081 - accuracy: 0.6540 - val_loss: 0.3782 - val_accuracy: 0.8458\n",
            "Epoch 2/5\n",
            "312/312 [==============================] - 73s 233ms/step - loss: 0.3853 - accuracy: 0.8269 - val_loss: 0.3259 - val_accuracy: 0.8618\n",
            "Epoch 3/5\n",
            "312/312 [==============================] - 73s 233ms/step - loss: 0.3331 - accuracy: 0.8595 - val_loss: 0.3029 - val_accuracy: 0.8701\n",
            "Epoch 4/5\n",
            "312/312 [==============================] - 73s 233ms/step - loss: 0.3052 - accuracy: 0.8674 - val_loss: 0.2911 - val_accuracy: 0.8803\n",
            "Epoch 5/5\n",
            "312/312 [==============================] - 73s 233ms/step - loss: 0.2893 - accuracy: 0.8789 - val_loss: 0.2767 - val_accuracy: 0.8836\n"
          ],
          "name": "stdout"
        }
      ]
    },
    {
      "cell_type": "code",
      "metadata": {
        "colab": {
          "base_uri": "https://localhost:8080/"
        },
        "id": "9OrKpy3W_0fY",
        "outputId": "377a4005-1a82-4a55-8170-24a28ffd3a41"
      },
      "source": [
        "scores = model.evaluate_generator(test_generator, nb_test_samples // batch_size)\r\n",
        "print(\"Accuracy on test data: %.2f%%\" % (scores[1]*100))"
      ],
      "execution_count": null,
      "outputs": [
        {
          "output_type": "stream",
          "text": [
            "/usr/local/lib/python3.6/dist-packages/tensorflow/python/keras/engine/training.py:1877: UserWarning: `Model.evaluate_generator` is deprecated and will be removed in a future version. Please use `Model.evaluate`, which supports generators.\n",
            "  warnings.warn('`Model.evaluate_generator` is deprecated and '\n"
          ],
          "name": "stderr"
        },
        {
          "output_type": "stream",
          "text": [
            "Accuracy on test data: 87.10%\n"
          ],
          "name": "stdout"
        }
      ]
    },
    {
      "cell_type": "code",
      "metadata": {
        "colab": {
          "base_uri": "https://localhost:8080/",
          "height": 573
        },
        "id": "CrFel4Ub9CT6",
        "outputId": "dbc904f7-f34a-4c7f-ee23-92cfa0c880ca"
      },
      "source": [
        "plt.plot(history.history['accuracy'])\r\n",
        "plt.plot(history.history['val_accuracy'])\r\n",
        "plt.title('model accuracy')\r\n",
        "plt.ylabel('accuracy')\r\n",
        "plt.xlabel('epoch')\r\n",
        "plt.legend(['train', 'val'], loc='upper left')\r\n",
        "plt.show()\r\n",
        "\r\n",
        "plt.plot(history.history['loss'])\r\n",
        "plt.plot(history.history['val_loss'])\r\n",
        "plt.title('model loss')\r\n",
        "plt.ylabel('loss')\r\n",
        "plt.xlabel('epoch')\r\n",
        "plt.legend(['train', 'val'], loc='upper left')\r\n",
        "plt.show()"
      ],
      "execution_count": null,
      "outputs": [
        {
          "output_type": "display_data",
          "data": {
            "image/png": "[encoded data removed]",
            "text/plain": [
              "<Figure size 432x288 with 1 Axes>"
            ]
          },
          "metadata": {
            "tags": [],
            "needs_background": "light"
          }
        },
        {
          "output_type": "display_data",
          "data": {
            "image/png": "[encoded data removed]",
            "text/plain": [
              "<Figure size 432x288 with 1 Axes>"
            ]
          },
          "metadata": {
            "tags": [],
            "needs_background": "light"
          }
        }
      ]
    },
    {
      "cell_type": "code",
      "metadata": {
        "colab": {
          "base_uri": "https://localhost:8080/"
        },
        "id": "HPFuk9sSBsvb",
        "outputId": "19f85f67-205b-4375-e046-dc97fe8ce863"
      },
      "source": [
        "# Download cat\r\n",
        "import os\r\n",
        "import urllib.request\r\n",
        "import cv2\r\n",
        "import numpy as np\r\n",
        "\r\n",
        "def predict_on_image_by_url(url):\r\n",
        "  urllib.request.urlretrieve(url, 'image.jpg')\r\n",
        "  os.listdir()\r\n",
        "\r\n",
        "  cat = np.asarray(cv2.imread('image.jpg'))\r\n",
        "  cat_resized = np.asarray(cv2.resize(cat, (150, 150))).reshape(1, 150, 150, 3)\r\n",
        "  return model.predict(cat_resized)\r\n",
        "\r\n",
        "print(predict_on_image_by_url('http://placekitten.com/200/300'))\r\n",
        "# 0 for cat\r\n",
        "# 1 for dog"
      ],
      "execution_count": null,
      "outputs": [
        {
          "output_type": "stream",
          "text": [
            "[[0.]]\n"
          ],
          "name": "stdout"
        }
      ]
    }
  ]
}